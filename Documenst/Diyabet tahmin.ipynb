{
 "cells": [
  {
   "cell_type": "code",
   "execution_count": 37,
   "id": "5dbc8e51",
   "metadata": {},
   "outputs": [
    {
     "name": "stdout",
     "output_type": "stream",
     "text": [
      "Model Doğruluğu: 0.8831168831168831\n",
      "              precision    recall  f1-score   support\n",
      "\n",
      "           0       0.93      0.89      0.91        99\n",
      "           1       0.81      0.87      0.84        55\n",
      "\n",
      "    accuracy                           0.88       154\n",
      "   macro avg       0.87      0.88      0.87       154\n",
      "weighted avg       0.89      0.88      0.88       154\n",
      "\n"
     ]
    }
   ],
   "source": [
    "import pandas as pd\n",
    "import numpy as np\n",
    "from sklearn.model_selection import train_test_split\n",
    "from sklearn.ensemble import RandomForestClassifier\n",
    "from sklearn.metrics import accuracy_score, classification_report\n",
    "\n",
    "# Veri seti\n",
    "data = pd.read_csv('C:\\\\Users\\\\yusuf\\\\Desktop\\\\diabetes.csv')\n",
    "\n",
    "# 0 olamayacak veriler medyanları ile dolduruldu\n",
    "data[['Glikoz','Kan Basinci','Deri Kalinligi','Insulin','VKI']] = data[['Glikoz','Kan Basinci','Deri Kalinligi','Insulin','VKI']].replace(0, np.NaN)\n",
    "columns = data.columns\n",
    "columns = columns.drop(\"Sonuc\")\n",
    "def median_target(var):   \n",
    "    \n",
    "    temp = data[data[var].notnull()]\n",
    "    \n",
    "    temp = temp[[var, 'Sonuc']].groupby(['Sonuc'])[[var]].median().reset_index()\n",
    "    \n",
    "    return temp\n",
    "for col in columns:\n",
    "    \n",
    "    data.loc[(data['Sonuc'] == 0 ) & (data[col].isnull()), col] = median_target(col)[col][0]\n",
    "    data.loc[(data['Sonuc'] == 1 ) & (data[col].isnull()), col] = median_target(col)[col][1]\n",
    "    \n",
    "    \n",
    "\n",
    "# Bağımsız değişkenler (X), hedef değişken (y) \n",
    "X = data[['Gebelikler', 'Glikoz', 'Kan Basinci', 'Deri Kalinligi', 'Insulin', 'VKI', 'DiyabetSoyagaciFonksiyonu', 'Yas']]\n",
    "y = data['Sonuc']\n",
    "\n",
    "# Eğitim ve test veri setleri\n",
    "X_train, X_test, y_train, y_test = train_test_split(X, y, test_size=0.2, random_state=42)\n",
    "\n",
    "\n",
    "# Random Forest modeli\n",
    "model = RandomForestClassifier(n_estimators=100, random_state=42)  \n",
    "model.fit(X_train, y_train)\n",
    "\n",
    "# Modelin test veri seti üzerinde performansı\n",
    "y_pred = model.predict(X_test)\n",
    "accuracy = accuracy_score(y_test, y_pred)\n",
    "print(f\"Model Doğruluğu: {accuracy}\")\n",
    "\n",
    "# Sınıflandırma raporu\n",
    "print(classification_report(y_test, y_pred))\n"
   ]
  },
  {
   "cell_type": "code",
   "execution_count": null,
   "id": "a5f22b37",
   "metadata": {},
   "outputs": [],
   "source": []
  }
 ],
 "metadata": {
  "kernelspec": {
   "display_name": "Python 3",
   "language": "python",
   "name": "python3"
  },
  "language_info": {
   "codemirror_mode": {
    "name": "ipython",
    "version": 3
   },
   "file_extension": ".py",
   "mimetype": "text/x-python",
   "name": "python",
   "nbconvert_exporter": "python",
   "pygments_lexer": "ipython3",
   "version": "3.8.8"
  }
 },
 "nbformat": 4,
 "nbformat_minor": 5
}
